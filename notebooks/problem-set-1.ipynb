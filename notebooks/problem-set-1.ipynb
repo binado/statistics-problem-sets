{
 "cells": [
  {
   "cell_type": "markdown",
   "metadata": {},
   "source": [
    "# Lista 1"
   ]
  },
  {
   "cell_type": "code",
   "execution_count": 12,
   "metadata": {},
   "outputs": [],
   "source": [
    "import sys\n",
    "sys.path.append('..')\n",
    "import numpy as np\n",
    "from scipy.special import factorial, comb\n",
    "import matplotlib.pyplot as plt\n",
    "%matplotlib inline\n",
    "\n",
    "from utils.math import gaussian"
   ]
  },
  {
   "cell_type": "markdown",
   "metadata": {},
   "source": [
    "## Questão 1"
   ]
  },
  {
   "cell_type": "markdown",
   "metadata": {},
   "source": [
    "## Questão 3\n",
    "\n",
    "Primeiramente, vamos arbitrar que existem $N$ jogadores em campo nessa partida de futebol, e que eles podem fazer aniversário em $M$ dias do ano. Ao final, faremos os cálculos para o caso realista $(N,M) = (22, 365)$.\n",
    "\n",
    "Atribuímos números de 1 a $N$ para cada jogador (não necessariamente os mesmos de suas camisas). Definimos a proposição $$E_i = \\{\\text{dos primeiros $i$ jogadores, nenhum faz aniversário na mesma data}\\}.$$\n",
    "\n",
    "Notamos que $\\mathbb{P}(E_1) = 1$, e que $E_i \\subset E_j$ se $i<j$. Em seguida, desenvolvemos\n",
    "\n",
    "$$\n",
    "\\mathbb{P}(E_1, \\ldots, E_n) = \\mathbb{P}(E_n | E_{n-1}, \\ldots, E_1) \\mathbb{P}(E_1, \\ldots, E_{n-1})\n",
    "$$\n",
    "\n",
    "A probabilidade condicional $\\mathbb{P}(E_n | E_{n-1}, \\ldots, E_1)$ depende do jogador $n$ não fazer aniversário nos mesmos dias dos demais, dado que nenhuma dessas datas coincide. Dessa maneira, assumindo uma probabilidade uniforme, o jogador $n$ tem exatamente $M - (n-1)$ datas possíveis. Portanto,\n",
    "\n",
    "$$\n",
    "\\mathbb{P}(E_n | E_{n-1}, \\ldots, E_1) = \\frac{M - n + 1}{M}\n",
    "$$\n",
    "\n",
    "Obtém-se a relação de recorrência\n",
    "\n",
    "\\begin{align*}\n",
    "\\mathbb{P}(E_1, \\ldots, E_n) = \\frac{M - n + 1}{M} \\mathbb{P}(E_1, \\ldots, E_{n-1}),\n",
    "\\end{align*}\n",
    "\n",
    "cuja solução é dada pelo produto\n",
    "\n",
    "\\begin{align*}\n",
    "    \\mathbb{P}(E_1, \\ldots, E_n) &= \\prod_{i=1}^n \\frac{M - i + 1}{M}\\\\\n",
    "    &= \\frac{1}{M^n} \\frac{M!}{(M-n)!}\\\\\n",
    "    &= \\frac{n!}{M^n} \\binom{M}{n}\n",
    "\\end{align*}\n",
    "\n",
    "Finalmente, a probabilidade de que ao menos dois jogadores tenham o mesmo aniversário é dada por $$\\mathbb{P}(\\overline{E_1, \\ldots, E_n}) = 1 - \\frac{n!}{M^n} \\binom{M}{n}$$\n",
    "\n",
    "Vamos visualizar essa probabilidade nas células abaixo."
   ]
  },
  {
   "cell_type": "code",
   "execution_count": 41,
   "metadata": {},
   "outputs": [
    {
     "data": {
      "image/png": "[encoded data removed]",
      "text/plain": [
       "<Figure size 640x480 with 1 Axes>"
      ]
     },
     "metadata": {},
     "output_type": "display_data"
    },
    {
     "name": "stdout",
     "output_type": "stream",
     "text": [
      "Probabilidade que ao menos dois jogadores tenham o mesmo aniversário\n",
      "em uma partida de futebol: 47.6%\n",
      "\n"
     ]
    }
   ],
   "source": [
    "def same_birthday_prob(n, m):\n",
    "    return 1 - factorial(n) * comb(m, n, exact=True) / m ** n\n",
    "    #prob_en_given_ei = (m + 1 - np.arange(1, n + 1)) / m\n",
    "    #return 1.0 - np.prod(prob_en_given_ei)\n",
    "\n",
    "M = 365\n",
    "N = 22\n",
    "narr = np.arange(1, 23, dtype=np.int32)\n",
    "probarr = [same_birthday_prob(i, M) for i in range(1, N + 1)]\n",
    "\n",
    "# Plot probabilities over n\n",
    "plt.scatter(narr, probarr)\n",
    "plt.xlabel('Número de jogadores')\n",
    "plt.title(r'$\\mathbb{P}(\\overline{E_1, \\ldots, E_N})$ para $N=22$')\n",
    "plt.grid()\n",
    "plt.show()\n",
    "\n",
    "# Print result for n = 22\n",
    "text = f\"\"\"Probabilidade que ao menos dois jogadores tenham o mesmo aniversário\n",
    "em uma partida de futebol: {(100 * probarr[-1]):.1f}%\n",
    "\"\"\"\n",
    "print(text)"
   ]
  },
  {
   "cell_type": "code",
   "execution_count": null,
   "metadata": {},
   "outputs": [],
   "source": []
  }
 ],
 "metadata": {
  "kernelspec": {
   "display_name": "statistical-methods",
   "language": "python",
   "name": "python3"
  },
  "language_info": {
   "codemirror_mode": {
    "name": "ipython",
    "version": 3
   },
   "file_extension": ".py",
   "mimetype": "text/x-python",
   "name": "python",
   "nbconvert_exporter": "python",
   "pygments_lexer": "ipython3",
   "version": "3.11.8"
  }
 },
 "nbformat": 4,
 "nbformat_minor": 2
}
